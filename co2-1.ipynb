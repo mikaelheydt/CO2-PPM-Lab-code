{
 "cells": [
  {
   "cell_type": "code",
   "execution_count": 1,
   "id": "thick-novel",
   "metadata": {},
   "outputs": [],
   "source": [
    "import numpy as np\n",
    "import matplotlib.pyplot as plt"
   ]
  },
  {
   "cell_type": "code",
   "execution_count": 11,
   "id": "overhead-holocaust",
   "metadata": {},
   "outputs": [
    {
     "data": {
      "text/plain": [
       "array([[1958.208,  315.71 ],\n",
       "       [1958.292,  317.45 ],\n",
       "       [1958.375,  317.5  ],\n",
       "       ...,\n",
       "       [2017.792,  403.63 ],\n",
       "       [2017.875,  405.12 ],\n",
       "       [2017.958,  406.81 ]])"
      ]
     },
     "execution_count": 11,
     "metadata": {},
     "output_type": "execute_result"
    }
   ],
   "source": [
    "file = \"co2-mauna-loa.txt\"\n",
    "data = np.genfromtxt(file,skip_header=2,usecols=(0,1))\n",
    "data"
   ]
  },
  {
   "cell_type": "code",
   "execution_count": 3,
   "id": "illegal-belarus",
   "metadata": {},
   "outputs": [
    {
     "data": {
      "text/plain": [
       "718"
      ]
     },
     "execution_count": 3,
     "metadata": {},
     "output_type": "execute_result"
    }
   ],
   "source": [
    "h = len(data)\n",
    "h"
   ]
  },
  {
   "cell_type": "code",
   "execution_count": 9,
   "id": "integrated-computer",
   "metadata": {},
   "outputs": [
    {
     "data": {
      "text/plain": [
       "359"
      ]
     },
     "execution_count": 9,
     "metadata": {},
     "output_type": "execute_result"
    }
   ],
   "source": [
    "h = int(len(data)/2)\n",
    "h"
   ]
  },
  {
   "cell_type": "code",
   "execution_count": 10,
   "id": "considered-mechanism",
   "metadata": {},
   "outputs": [
    {
     "data": {
      "text/plain": [
       "array([1958.208, 1958.292, 1958.375, 1958.458, 1958.542, 1958.625,\n",
       "       1958.708, 1958.792, 1958.875, 1958.958, 1959.042, 1959.125,\n",
       "       1959.208, 1959.292, 1959.375, 1959.458, 1959.542, 1959.625,\n",
       "       1959.708, 1959.792, 1959.875, 1959.958, 1960.042, 1960.125,\n",
       "       1960.208, 1960.292, 1960.375, 1960.458, 1960.542, 1960.625,\n",
       "       1960.708, 1960.792, 1960.875, 1960.958, 1961.042, 1961.125,\n",
       "       1961.208, 1961.292, 1961.375, 1961.458, 1961.542, 1961.625,\n",
       "       1961.708, 1961.792, 1961.875, 1961.958, 1962.042, 1962.125,\n",
       "       1962.208, 1962.292, 1962.375, 1962.458, 1962.542, 1962.625,\n",
       "       1962.708, 1962.792, 1962.875, 1962.958, 1963.042, 1963.125,\n",
       "       1963.208, 1963.292, 1963.375, 1963.458, 1963.542, 1963.625,\n",
       "       1963.708, 1963.792, 1963.875, 1963.958, 1964.042, 1964.125,\n",
       "       1964.208, 1964.292, 1964.375, 1964.458, 1964.542, 1964.625,\n",
       "       1964.708, 1964.792, 1964.875, 1964.958, 1965.042, 1965.125,\n",
       "       1965.208, 1965.292, 1965.375, 1965.458, 1965.542, 1965.625,\n",
       "       1965.708, 1965.792, 1965.875, 1965.958, 1966.042, 1966.125,\n",
       "       1966.208, 1966.292, 1966.375, 1966.458, 1966.542, 1966.625,\n",
       "       1966.708, 1966.792, 1966.875, 1966.958, 1967.042, 1967.125,\n",
       "       1967.208, 1967.292, 1967.375, 1967.458, 1967.542, 1967.625,\n",
       "       1967.708, 1967.792, 1967.875, 1967.958, 1968.042, 1968.125,\n",
       "       1968.208, 1968.292, 1968.375, 1968.458, 1968.542, 1968.625,\n",
       "       1968.708, 1968.792, 1968.875, 1968.958, 1969.042, 1969.125,\n",
       "       1969.208, 1969.292, 1969.375, 1969.458, 1969.542, 1969.625,\n",
       "       1969.708, 1969.792, 1969.875, 1969.958, 1970.042, 1970.125,\n",
       "       1970.208, 1970.292, 1970.375, 1970.458, 1970.542, 1970.625,\n",
       "       1970.708, 1970.792, 1970.875, 1970.958, 1971.042, 1971.125,\n",
       "       1971.208, 1971.292, 1971.375, 1971.458, 1971.542, 1971.625,\n",
       "       1971.708, 1971.792, 1971.875, 1971.958, 1972.042, 1972.125,\n",
       "       1972.208, 1972.292, 1972.375, 1972.458, 1972.542, 1972.625,\n",
       "       1972.708, 1972.792, 1972.875, 1972.958, 1973.042, 1973.125,\n",
       "       1973.208, 1973.292, 1973.375, 1973.458, 1973.542, 1973.625,\n",
       "       1973.708, 1973.792, 1973.875, 1973.958, 1974.042, 1974.125,\n",
       "       1974.208, 1974.292, 1974.375, 1974.458, 1974.542, 1974.625,\n",
       "       1974.708, 1974.792, 1974.875, 1974.958, 1975.042, 1975.125,\n",
       "       1975.208, 1975.292, 1975.375, 1975.458, 1975.542, 1975.625,\n",
       "       1975.708, 1975.792, 1975.875, 1975.958, 1976.042, 1976.125,\n",
       "       1976.208, 1976.292, 1976.375, 1976.458, 1976.542, 1976.625,\n",
       "       1976.708, 1976.792, 1976.875, 1976.958, 1977.042, 1977.125,\n",
       "       1977.208, 1977.292, 1977.375, 1977.458, 1977.542, 1977.625,\n",
       "       1977.708, 1977.792, 1977.875, 1977.958, 1978.042, 1978.125,\n",
       "       1978.208, 1978.292, 1978.375, 1978.458, 1978.542, 1978.625,\n",
       "       1978.708, 1978.792, 1978.875, 1978.958, 1979.042, 1979.125,\n",
       "       1979.208, 1979.292, 1979.375, 1979.458, 1979.542, 1979.625,\n",
       "       1979.708, 1979.792, 1979.875, 1979.958, 1980.042, 1980.125,\n",
       "       1980.208, 1980.292, 1980.375, 1980.458, 1980.542, 1980.625,\n",
       "       1980.708, 1980.792, 1980.875, 1980.958, 1981.042, 1981.125,\n",
       "       1981.208, 1981.292, 1981.375, 1981.458, 1981.542, 1981.625,\n",
       "       1981.708, 1981.792, 1981.875, 1981.958, 1982.042, 1982.125,\n",
       "       1982.208, 1982.292, 1982.375, 1982.458, 1982.542, 1982.625,\n",
       "       1982.708, 1982.792, 1982.875, 1982.958, 1983.042, 1983.125,\n",
       "       1983.208, 1983.292, 1983.375, 1983.458, 1983.542, 1983.625,\n",
       "       1983.708, 1983.792, 1983.875, 1983.958, 1984.042, 1984.125,\n",
       "       1984.208, 1984.292, 1984.375, 1984.458, 1984.542, 1984.625,\n",
       "       1984.708, 1984.792, 1984.875, 1984.958, 1985.042, 1985.125,\n",
       "       1985.208, 1985.292, 1985.375, 1985.458, 1985.542, 1985.625,\n",
       "       1985.708, 1985.792, 1985.875, 1985.958, 1986.042, 1986.125,\n",
       "       1986.208, 1986.292, 1986.375, 1986.458, 1986.542, 1986.625,\n",
       "       1986.708, 1986.792, 1986.875, 1986.958, 1987.042, 1987.125,\n",
       "       1987.208, 1987.292, 1987.375, 1987.458, 1987.542, 1987.625,\n",
       "       1987.708, 1987.792, 1987.875, 1987.958, 1988.042])"
      ]
     },
     "execution_count": 10,
     "metadata": {},
     "output_type": "execute_result"
    }
   ],
   "source": [
    "time=data[:h,0]\n",
    "time"
   ]
  },
  {
   "cell_type": "code",
   "execution_count": 12,
   "id": "sacred-exclusive",
   "metadata": {},
   "outputs": [
    {
     "data": {
      "text/plain": [
       "array([315.71, 317.45, 317.5 , 316.  , 315.86, 314.93, 313.2 , 313.  ,\n",
       "       313.33, 314.67, 315.62, 316.38, 316.71, 317.72, 318.29, 318.15,\n",
       "       316.54, 314.8 , 313.84, 313.26, 314.8 , 315.58, 316.43, 316.97,\n",
       "       317.58, 319.02, 320.03, 319.59, 318.18, 315.91, 314.16, 313.83,\n",
       "       315.  , 316.19, 316.93, 317.7 , 318.54, 319.48, 320.58, 319.77,\n",
       "       318.57, 316.79, 314.8 , 315.38, 316.1 , 317.01, 317.94, 318.56,\n",
       "       319.68, 320.63, 321.01, 320.55, 319.58, 317.4 , 316.26, 315.42,\n",
       "       316.69, 317.69, 318.74, 319.08, 319.86, 321.39, 322.25, 321.47,\n",
       "       319.74, 317.77, 316.21, 315.99, 317.12, 318.31, 319.57, 320.1 ,\n",
       "       320.5 , 321.25, 322.25, 321.89, 320.44, 318.7 , 316.7 , 316.79,\n",
       "       317.79, 318.71, 319.44, 320.44, 320.89, 322.13, 322.16, 321.87,\n",
       "       321.39, 318.81, 317.81, 317.3 , 318.87, 319.42, 320.62, 321.59,\n",
       "       322.39, 323.87, 324.01, 323.75, 322.39, 320.37, 318.64, 318.1 ,\n",
       "       319.79, 321.08, 322.07, 322.5 , 323.04, 324.42, 325.  , 324.09,\n",
       "       322.55, 320.92, 319.31, 319.31, 320.72, 321.96, 322.57, 323.15,\n",
       "       323.89, 325.02, 325.57, 325.36, 324.14, 322.03, 320.41, 320.25,\n",
       "       321.31, 322.84, 324.  , 324.42, 325.64, 326.66, 327.34, 326.76,\n",
       "       325.88, 323.67, 322.38, 321.78, 322.85, 324.11, 325.03, 325.99,\n",
       "       326.87, 328.13, 328.07, 327.66, 326.35, 324.69, 323.1 , 323.16,\n",
       "       323.98, 325.13, 326.17, 326.68, 327.18, 327.78, 328.92, 328.57,\n",
       "       327.34, 325.46, 323.36, 323.57, 324.8 , 326.01, 326.77, 327.63,\n",
       "       327.75, 329.72, 330.07, 329.09, 328.05, 326.32, 324.93, 325.06,\n",
       "       326.5 , 327.55, 328.54, 329.56, 330.3 , 331.5 , 332.48, 332.07,\n",
       "       330.87, 329.31, 327.51, 327.18, 328.16, 328.64, 329.35, 330.71,\n",
       "       331.48, 332.65, 333.19, 332.16, 331.07, 329.12, 327.32, 327.28,\n",
       "       328.3 , 329.58, 330.73, 331.46, 331.9 , 333.17, 333.94, 333.45,\n",
       "       331.97, 329.95, 328.5 , 328.34, 329.37, 330.  , 331.59, 332.75,\n",
       "       333.52, 334.64, 334.77, 334.  , 333.06, 330.68, 328.95, 328.75,\n",
       "       330.15, 331.62, 332.66, 333.13, 334.95, 336.13, 336.93, 336.17,\n",
       "       334.88, 332.56, 331.29, 331.27, 332.41, 333.6 , 334.95, 335.25,\n",
       "       336.66, 337.69, 338.03, 338.01, 336.41, 334.41, 332.37, 332.41,\n",
       "       333.75, 334.9 , 336.14, 336.69, 338.27, 338.95, 339.21, 339.26,\n",
       "       337.54, 335.75, 333.98, 334.19, 335.31, 336.81, 337.9 , 338.34,\n",
       "       340.01, 340.93, 341.48, 341.33, 339.4 , 337.7 , 336.19, 336.15,\n",
       "       337.27, 338.32, 339.29, 340.55, 341.61, 342.53, 343.03, 342.54,\n",
       "       340.78, 338.44, 336.95, 337.08, 338.58, 339.88, 340.96, 341.73,\n",
       "       342.81, 343.97, 344.63, 343.79, 342.32, 340.09, 338.28, 338.29,\n",
       "       339.6 , 340.9 , 341.68, 342.9 , 343.33, 345.25, 346.03, 345.63,\n",
       "       344.19, 342.27, 340.35, 340.38, 341.59, 343.05, 344.1 , 344.79,\n",
       "       345.52, 346.  , 347.63, 346.98, 345.53, 343.55, 341.4 , 341.67,\n",
       "       343.1 , 344.7 , 345.21, 346.16, 347.74, 348.34, 349.06, 348.38,\n",
       "       346.71, 345.02, 343.27, 343.13, 344.49, 345.88, 346.56, 347.28,\n",
       "       348.01, 349.77, 350.38, 349.93, 348.16, 346.08, 345.22, 344.51,\n",
       "       345.93, 347.22, 348.52, 348.73, 349.73, 351.31, 352.09, 351.53,\n",
       "       350.11, 348.08, 346.52, 346.59, 347.96, 349.16, 350.39])"
      ]
     },
     "execution_count": 12,
     "metadata": {},
     "output_type": "execute_result"
    }
   ],
   "source": [
    "co2=data[:h,1]\n",
    "co2"
   ]
  },
  {
   "cell_type": "code",
   "execution_count": 13,
   "id": "stainless-vision",
   "metadata": {},
   "outputs": [
    {
     "data": {
      "text/plain": [
       "(-1994.70674192575, 1.1781391280306044)"
      ]
     },
     "execution_count": 13,
     "metadata": {},
     "output_type": "execute_result"
    }
   ],
   "source": [
    "intercept, slope = np.polynomial.polynomial.polyfit(time,co2,1)\n",
    "intercept, slope"
   ]
  },
  {
   "cell_type": "code",
   "execution_count": 14,
   "id": "outside-durham",
   "metadata": {},
   "outputs": [
    {
     "data": {
      "text/plain": [
       "1958.208"
      ]
     },
     "execution_count": 14,
     "metadata": {},
     "output_type": "execute_result"
    }
   ],
   "source": [
    "s = min(time)\n",
    "s"
   ]
  },
  {
   "cell_type": "code",
   "execution_count": 15,
   "id": "undefined-parent",
   "metadata": {},
   "outputs": [
    {
     "data": {
      "text/plain": [
       "1988.042"
      ]
     },
     "execution_count": 15,
     "metadata": {},
     "output_type": "execute_result"
    }
   ],
   "source": [
    "e = max(time)\n",
    "e"
   ]
  },
  {
   "cell_type": "code",
   "execution_count": 16,
   "id": "wired-blond",
   "metadata": {},
   "outputs": [
    {
     "data": {
      "text/plain": [
       "array([1958.208     , 1958.81685714, 1959.42571429, 1960.03457143,\n",
       "       1960.64342857, 1961.25228571, 1961.86114286, 1962.47      ,\n",
       "       1963.07885714, 1963.68771429, 1964.29657143, 1964.90542857,\n",
       "       1965.51428571, 1966.12314286, 1966.732     , 1967.34085714,\n",
       "       1967.94971429, 1968.55857143, 1969.16742857, 1969.77628571,\n",
       "       1970.38514286, 1970.994     , 1971.60285714, 1972.21171429,\n",
       "       1972.82057143, 1973.42942857, 1974.03828571, 1974.64714286,\n",
       "       1975.256     , 1975.86485714, 1976.47371429, 1977.08257143,\n",
       "       1977.69142857, 1978.30028571, 1978.90914286, 1979.518     ,\n",
       "       1980.12685714, 1980.73571429, 1981.34457143, 1981.95342857,\n",
       "       1982.56228571, 1983.17114286, 1983.78      , 1984.38885714,\n",
       "       1984.99771429, 1985.60657143, 1986.21542857, 1986.82428571,\n",
       "       1987.43314286, 1988.042     ])"
      ]
     },
     "execution_count": 16,
     "metadata": {},
     "output_type": "execute_result"
    }
   ],
   "source": [
    "x = np.linspace(s, e)\n",
    "x"
   ]
  },
  {
   "cell_type": "code",
   "execution_count": 17,
   "id": "innocent-excuse",
   "metadata": {},
   "outputs": [
    {
     "data": {
      "text/plain": [
       "array([312.3347237 , 313.05204212, 313.76936054, 314.48667897,\n",
       "       315.20399739, 315.92131581, 316.63863424, 317.35595266,\n",
       "       318.07327108, 318.79058951, 319.50790793, 320.22522635,\n",
       "       320.94254478, 321.6598632 , 322.37718162, 323.09450005,\n",
       "       323.81181847, 324.52913689, 325.24645532, 325.96377374,\n",
       "       326.68109216, 327.39841059, 328.11572901, 328.83304743,\n",
       "       329.55036586, 330.26768428, 330.9850027 , 331.70232113,\n",
       "       332.41963955, 333.13695797, 333.8542764 , 334.57159482,\n",
       "       335.28891324, 336.00623167, 336.72355009, 337.44086852,\n",
       "       338.15818694, 338.87550536, 339.59282379, 340.31014221,\n",
       "       341.02746063, 341.74477906, 342.46209748, 343.1794159 ,\n",
       "       343.89673433, 344.61405275, 345.33137117, 346.0486896 ,\n",
       "       346.76600802, 347.48332644])"
      ]
     },
     "execution_count": 17,
     "metadata": {},
     "output_type": "execute_result"
    }
   ],
   "source": [
    "y = slope*x + intercept\n",
    "y"
   ]
  },
  {
   "cell_type": "code",
   "execution_count": 18,
   "id": "varying-monte",
   "metadata": {},
   "outputs": [
    {
     "data": {
      "image/png": "[encoded data removed]",
      "text/plain": [
       "<Figure size 432x288 with 1 Axes>"
      ]
     },
     "metadata": {
      "needs_background": "light"
     },
     "output_type": "display_data"
    }
   ],
   "source": [
    "plt.xlabel(\"# of Sunspots in a year\")\n",
    "plt.ylabel(\"# of Satellites re-entering in a year\")\n",
    "plt.title(\"Satellites burning up vs sunspot count\")\n",
    "plt.scatter(time,co2,color=\"purple\")\n",
    "plt.plot(x,y)\n",
    "plt.show()"
   ]
  },
  {
   "cell_type": "code",
   "execution_count": null,
   "id": "affiliated-click",
   "metadata": {},
   "outputs": [],
   "source": []
  }
 ],
 "metadata": {
  "kernelspec": {
   "display_name": "Python 3",
   "language": "python",
   "name": "python3"
  },
  "language_info": {
   "codemirror_mode": {
    "name": "ipython",
    "version": 3
   },
   "file_extension": ".py",
   "mimetype": "text/x-python",
   "name": "python",
   "nbconvert_exporter": "python",
   "pygments_lexer": "ipython3",
   "version": "3.8.3"
  }
 },
 "nbformat": 4,
 "nbformat_minor": 5
}
